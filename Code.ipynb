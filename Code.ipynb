{
 "cells": [
  {
   "cell_type": "code",
   "execution_count": 1,
   "id": "50d6e137",
   "metadata": {},
   "outputs": [],
   "source": [
    "# This code writes the product data table to a TXT file.\n",
    "\n",
    "product_data = [\n",
    "    [\"Metric\", \"Product 1\", \"Product 2\", \"Product 3\", \"Product 4\", \"Product 5\", \"Product 6\"],\n",
    "    [\"Annual demand (units)\", \"10,000\", \"15,000\", \"25,000\", \"2,000\", \"1,500\", \"95,000\"],\n",
    "    [\"Order cost ($)\", \"50\", \"50\", \"50\", \"50\", \"50\", \"150\"],\n",
    "    [\"Price/unit load ($)\", \"500\", \"650\", \"350\", \"250\", \"225\", \"150\"],\n",
    "    [\"Space required (m²)\", \"10\", \"15\", \"25\", \"10\", \"12\", \"13\"],\n",
    "    [\"Reserve dwell percentage (%)\", \"0\", \"0\", \"20%\", \"0\", \"0\", \"100%\"],\n",
    "    [\"Yearly carrying cost rate (%)\", \"10%\", \"10%\", \"10%\", \"10%\", \"10%\", \"10%\"]\n",
    "]\n",
    "\n",
    "with open(\"product_data.txt\", \"w\") as f:\n",
    "    for row in product_data:\n",
    "        f.write(\"\\t\".join(row) + \"\\n\")"
   ]
  },
  {
   "cell_type": "code",
   "execution_count": 7,
   "id": "27ddaeb6",
   "metadata": {},
   "outputs": [],
   "source": [
    "# This code writes the flow/product data table to a TXT file.\n",
    "\n",
    "flow_product_data = [\n",
    "    [\"Flow/Product\", \"Product 1\", \"Product 2\", \"Product 3\", \"Product 4\", \"Product 5\", \"Product 6\"],\n",
    "    [\"Flow 1 (CD)\", \"0.0707\", \"0.0203\", \"0.0267\", \"0.3354\", \"0.4083\", \"0.0726\"],\n",
    "    [\"Flow 2 (R)\", \"0.0849\", \"0.2023\", \"0.0420\", \"0.5590\", \"0.6804\", \"0.0871\"],\n",
    "    [\"Flow 3 (RF)\", \"0.1061\", \"0.2023\", \"0.0054\", \"1.0062\", \"1.2248\", \"0.1088\"],\n",
    "    [\"Flow 4 (F)\", \"0.0778\", \"0.2023\", \"0.0481\", \"0.0671\", \"0.8165\", \"0.0798\"]\n",
    "]\n",
    "\n",
    "with open(\"product_cost_data.txt\", \"w\") as f:\n",
    "    for row in flow_product_data:\n",
    "        f.write(\"\\t\".join(row) + \"\\n\")"
   ]
  },
  {
   "cell_type": "code",
   "execution_count": 8,
   "id": "1d4bb0c4",
   "metadata": {},
   "outputs": [],
   "source": [
    "# This code writes the new flow/product quantity table to a TXT file.\n",
    "\n",
    "flow_product_quantity = [\n",
    "    [\"Flow/Product\", \"Product 1\", \"Product 2\", \"Product 3\", \"Product 4\", \"Product 5\", \"Product 6\"],\n",
    "    [\"Flow 1 (CD)\", \"20\", \"15\", \"4\", \"5\", \"15\", \"20\"],\n",
    "    [\"Flow 2 (R)\", \"5\", \"5\", \"20\", \"4\", \"25\", \"5\"],\n",
    "    [\"Flow 3 (RF)\", \"10\", \"10\", \"1\", \"5\", \"45\", \"10\"],\n",
    "    [\"Flow 4 (F)\", \"15\", \"10\", \"9\", \"1\", \"30\", \"15\"]\n",
    "]\n",
    "\n",
    "with open(\"product_yearly_cost.txt\", \"w\") as f:\n",
    "    for row in flow_product_quantity:\n",
    "        f.write(\"\\t\".join(row) + \"\\n\")"
   ]
  },
  {
   "cell_type": "code",
   "execution_count": 4,
   "id": "2c536de8",
   "metadata": {},
   "outputs": [],
   "source": [
    "# This code writes the functional area bounds table to a TXT file.\n",
    "\n",
    "functional_area_bounds = [\n",
    "    [\"Functional Area\", \"Lower bound (m²)\", \"Upper bound (m²)\"],\n",
    "    [\"Cross-docking\", \"0\", \"15,000\"],\n",
    "    [\"Reserve\", \"35,000\", \"75,000\"],\n",
    "    [\"Forward\", \"35,000\", \"75,000\"]\n",
    "]\n",
    "\n",
    "with open(\"functional_area_bounds.txt\", \"w\") as f:\n",
    "    for row in functional_area_bounds:\n",
    "        f.write(\"\\t\".join(row) + \"\\n\")"
   ]
  },
  {
   "cell_type": "code",
   "execution_count": 5,
   "id": "99700e8a",
   "metadata": {},
   "outputs": [],
   "source": [
    "# This code writes the levels of space available in each functional area to a TXT file.\n",
    "\n",
    "functional_area_levels = [\n",
    "    [\"Functional Area\", \"#Levels\"],\n",
    "    [\"Cross-docking\", \"1\"],\n",
    "    [\"Reserve\", \"1\"],\n",
    "    [\"Forward\", \"1\"]\n",
    "]\n",
    "\n",
    "with open(\"functional_area_levels.txt\", \"w\") as f:\n",
    "    for row in functional_area_levels:\n",
    "        f.write(\"\\t\".join(row) + \"\\n\")"
   ]
  }
 ],
 "metadata": {
  "kernelspec": {
   "display_name": "Python 3",
   "language": "python",
   "name": "python3"
  },
  "language_info": {
   "codemirror_mode": {
    "name": "ipython",
    "version": 3
   },
   "file_extension": ".py",
   "mimetype": "text/x-python",
   "name": "python",
   "nbconvert_exporter": "python",
   "pygments_lexer": "ipython3",
   "version": "3.13.2"
  }
 },
 "nbformat": 4,
 "nbformat_minor": 5
}
